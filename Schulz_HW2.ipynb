{
  "nbformat": 4,
  "nbformat_minor": 0,
  "metadata": {
    "colab": {
      "name": "Schulz_HW2.ipynb",
      "version": "0.3.2",
      "provenance": [],
      "collapsed_sections": []
    },
    "kernelspec": {
      "name": "python3",
      "display_name": "Python 3"
    },
    "accelerator": "GPU"
  },
  "cells": [
    {
      "metadata": {
        "id": "dEtLdDhFRqEX",
        "colab_type": "code",
        "colab": {}
      },
      "cell_type": "code",
      "source": [
        "from keras.datasets import fashion_mnist\n",
        "import numpy as np\n",
        "from keras.layers import Input, Dense, Conv2D, MaxPooling2D \n",
        "from keras.layers import UpSampling2D, Dropout, Activation, Flatten \n",
        "from keras.layers import LeakyReLU, LSTM, Conv1D, GlobalMaxPooling1D\n",
        "from keras.models import Model, Sequential\n",
        "from matplotlib import pyplot as plt\n",
        "from keras.utils import np_utils\n",
        "import keras\n",
        "from keras.applications import VGG16\n",
        "from keras.preprocessing.image import img_to_array, array_to_img\n",
        "from sklearn.model_selection import train_test_split\n",
        "from keras.applications.vgg16 import preprocess_input\n",
        "import pandas as pd\n",
        "from keras.layers.embeddings import Embedding\n",
        "from keras.callbacks import TensorBoard\n",
        "from keras.preprocessing import sequence\n",
        "from keras.preprocessing.text import Tokenizer\n",
        "from sklearn.utils import class_weight\n",
        "from sklearn.metrics import roc_curve\n",
        "from sklearn.metrics import auc"
      ],
      "execution_count": 0,
      "outputs": []
    },
    {
      "metadata": {
        "id": "CeFo0XdaRqEb",
        "colab_type": "code",
        "colab": {}
      },
      "cell_type": "code",
      "source": [
        "(x_train, y_train), (x_test, y_test) = fashion_mnist.load_data()"
      ],
      "execution_count": 0,
      "outputs": []
    },
    {
      "metadata": {
        "id": "PtcL-_Op15W-",
        "colab_type": "text"
      },
      "cell_type": "markdown",
      "source": [
        "We see that our training data contains 6,000 images of dimension 28x28, while our testing data contains 10,000 images of dimension 28x28. It is also in unit8 format (which we will change).\n"
      ]
    },
    {
      "metadata": {
        "id": "X9c2hYb11usk",
        "colab_type": "code",
        "colab": {
          "base_uri": "https://localhost:8080/",
          "height": 68
        },
        "outputId": "528b9bc5-87d5-4b9e-813f-dc2dc7aa4511"
      },
      "cell_type": "code",
      "source": [
        "print('Train:', x_train.shape, y_train.shape)\n",
        "\n",
        "print('Test:', x_test.shape, y_test.shape)\n",
        "\n",
        "print(x_train.dtype)"
      ],
      "execution_count": 201,
      "outputs": [
        {
          "output_type": "stream",
          "text": [
            "Train: (60000, 28, 28) (60000,)\n",
            "Test: (10000, 28, 28) (10000,)\n",
            "uint8\n"
          ],
          "name": "stdout"
        }
      ]
    },
    {
      "metadata": {
        "id": "0Ykyrn-Kg-6k",
        "colab_type": "code",
        "colab": {}
      },
      "cell_type": "code",
      "source": [
        "#rescale image pixels to values between 0 and 1\n",
        "x_train = x_train.astype('float32') / 255.\n",
        "x_test = x_test.astype('float32') / 255."
      ],
      "execution_count": 0,
      "outputs": []
    },
    {
      "metadata": {
        "id": "uufUJtJeUOAu",
        "colab_type": "code",
        "colab": {}
      },
      "cell_type": "code",
      "source": [
        "# FOR 2.2\n",
        "#convert images to three channels\n",
        "train_X = np.stack([x_train] *3, axis = -1)\n",
        "test_X = np.stack([x_test] *3, axis = -1)\n",
        "train_X = train_X.reshape(-1, 28,28,3)\n",
        "test_X = test_X.reshape (-1,28,28,3)\n",
        "\n",
        "#resize the images to 48 x 48 for VGG16\n",
        "train_X = np.asarray([img_to_array(array_to_img(im, scale=False).resize((48,48))) for im in train_X])\n",
        "test_X = np.asarray([img_to_array(array_to_img(im, scale=False).resize((48,48))) for im in test_X])\n",
        "\n",
        "\n",
        "#converting labels to one hot encoded format\n",
        "train_Y_one_hot = np_utils.to_categorical(y_train)\n",
        "test_Y_one_hot = np_utils.to_categorical(y_test)\n",
        "\n",
        "#split train data as train and validation data\n",
        "train_X,valid_X,train_Label,valid_Label = train_test_split(train_X,\n",
        "                                                           train_Y_one_hot,\n",
        "                                                           test_size=0.2,\n",
        "                                                           random_state=13)"
      ],
      "execution_count": 0,
      "outputs": []
    },
    {
      "metadata": {
        "id": "HYMTkuL_UMX8",
        "colab_type": "code",
        "colab": {}
      },
      "cell_type": "code",
      "source": [
        "# FOR 1\n",
        "#reshape data from 6,000 x 28 x 28 to single image dimension\n",
        "x_train = np.reshape(x_train, (len(x_train), 28, 28, 1))  \n",
        "x_test = np.reshape(x_test, (len(x_test), 28, 28, 1)) "
      ],
      "execution_count": 0,
      "outputs": []
    },
    {
      "metadata": {
        "id": "jBxn2rP-kqE6",
        "colab_type": "text"
      },
      "cell_type": "markdown",
      "source": [
        "**1 Autoencoder**"
      ]
    },
    {
      "metadata": {
        "id": "yHVRZogzg-3d",
        "colab_type": "code",
        "colab": {}
      },
      "cell_type": "code",
      "source": [
        "input_img = Input(shape=(28, 28, 1))  \n",
        "\n",
        "#compress image for encoding:\n",
        "\n",
        "# 28 x 28 x 16 matrix\n",
        "x = Conv2D(16, kernel_size = (3, 3), activation='relu', padding='same')(input_img)\n",
        "# 14 x 14 x 16 matrix\n",
        "x = MaxPooling2D((2, 2), padding='same')(x)\n",
        "# 14 x 14 x 8 matrix\n",
        "x = Conv2D(8, kernel_size = (3, 3), activation='relu', padding='same')(x)\n",
        "# 7 x 7 x 8 matrix\n",
        "x = MaxPooling2D((2, 2), padding='same')(x)\n",
        "# 7 x 7 x 8 matrix\n",
        "x = Conv2D(8, kernel_size = (3, 3), activation='relu', padding='same')(x)\n",
        "\n",
        "#image is encoded as 4 x 4 x 8 matrix\n",
        "encoded = MaxPooling2D((2, 2), padding='same')(x)\n",
        "\n",
        "# 4 x 4 x 8 matrix\n",
        "x = Conv2D(8, kernel_size =  (3, 3), activation='relu', padding='same')(encoded)\n",
        "# 8 x 8 x 8 matrix\n",
        "x = UpSampling2D((2, 2))(x)\n",
        "# 8 x 8 x 8 matrix\n",
        "x = Conv2D(8, kernel_size = (3, 3), activation='relu', padding='same')(x)\n",
        "# 16 x 16 x 8 matrix\n",
        "x = UpSampling2D((2, 2))(x)\n",
        "# 14 x 14 x 16 matrix\n",
        "x = Conv2D(16, kernel_size = (3, 3), activation='relu')(x)\n",
        "# 28 x 28 x 16 matrix\n",
        "x = UpSampling2D((2, 2))(x)\n",
        "\n",
        "#image is decoded as 28 x 28 x 1 matrix\n",
        "decoded = Conv2D(1, kernel_size = (3, 3), activation='sigmoid', padding='same')(x)\n",
        "\n",
        "autoencoder = Model(input_img, decoded)\n",
        "autoencoder.compile(optimizer='adadelta', loss='binary_crossentropy')\n",
        "\n",
        "#we use sigmoid activation and binary cross-entropy loss because pixels have \n",
        "#values between 0 and 1"
      ],
      "execution_count": 0,
      "outputs": []
    },
    {
      "metadata": {
        "id": "j0Wz5BJzpMfm",
        "colab_type": "text"
      },
      "cell_type": "markdown",
      "source": [
        "Over 10 epochs, the validation loss on the autoencoder improved from about 0.328 to about 0.295."
      ]
    },
    {
      "metadata": {
        "id": "mnTzCGuxVdr4",
        "colab_type": "code",
        "outputId": "54c12e52-3fca-49be-97cc-fdd22b63a62d",
        "colab": {
          "base_uri": "https://localhost:8080/",
          "height": 391
        }
      },
      "cell_type": "code",
      "source": [
        "autoencoder.fit(x_train, x_train,\n",
        "                epochs = 10,\n",
        "                batch_size = 64,\n",
        "                shuffle=True,\n",
        "                validation_data=(x_test, x_test),\n",
        "                callbacks=[TensorBoard(log_dir='/tmp/autoencoder')])"
      ],
      "execution_count": 11,
      "outputs": [
        {
          "output_type": "stream",
          "text": [
            "Train on 60000 samples, validate on 10000 samples\n",
            "Epoch 1/10\n",
            "60000/60000 [==============================] - 15s 248us/step - loss: 0.3457 - val_loss: 0.3282\n",
            "Epoch 2/10\n",
            "60000/60000 [==============================] - 12s 208us/step - loss: 0.3086 - val_loss: 0.3040\n",
            "Epoch 3/10\n",
            "60000/60000 [==============================] - 13s 216us/step - loss: 0.3015 - val_loss: 0.3043\n",
            "Epoch 4/10\n",
            "60000/60000 [==============================] - 12s 206us/step - loss: 0.2980 - val_loss: 0.2996\n",
            "Epoch 5/10\n",
            "60000/60000 [==============================] - 12s 208us/step - loss: 0.2956 - val_loss: 0.3013\n",
            "Epoch 6/10\n",
            "60000/60000 [==============================] - 12s 208us/step - loss: 0.2937 - val_loss: 0.2968\n",
            "Epoch 7/10\n",
            "60000/60000 [==============================] - 12s 208us/step - loss: 0.2923 - val_loss: 0.2917\n",
            "Epoch 8/10\n",
            "60000/60000 [==============================] - 12s 207us/step - loss: 0.2917 - val_loss: 0.2936\n",
            "Epoch 9/10\n",
            "60000/60000 [==============================] - 13s 210us/step - loss: 0.2907 - val_loss: 0.2949\n",
            "Epoch 10/10\n",
            "60000/60000 [==============================] - 12s 207us/step - loss: 0.2903 - val_loss: 0.2956\n"
          ],
          "name": "stdout"
        },
        {
          "output_type": "execute_result",
          "data": {
            "text/plain": [
              "<keras.callbacks.History at 0x7fb6cc105a20>"
            ]
          },
          "metadata": {
            "tags": []
          },
          "execution_count": 11
        }
      ]
    },
    {
      "metadata": {
        "id": "NcE78hg3pWpx",
        "colab_type": "text"
      },
      "cell_type": "markdown",
      "source": [
        "The reconstructed images below show that the autoencoder was able to reproduce the general shapes of the clothin items, but could not reproduce nuances such as patterns on the shirts."
      ]
    },
    {
      "metadata": {
        "id": "B3EliM14g-9x",
        "colab_type": "code",
        "colab": {
          "base_uri": "https://localhost:8080/",
          "height": 244
        },
        "outputId": "6c607a36-ed7c-4280-fa30-0d8d781013a9"
      },
      "cell_type": "code",
      "source": [
        "# Reconstructed images\n",
        "decoded_imgs = autoencoder.predict(x_test)\n",
        "\n",
        "n = 10\n",
        "plt.figure(figsize=(20, 4))\n",
        "for i in range(1,n):\n",
        "    # original\n",
        "    ax = plt.subplot(2, n, i)\n",
        "    plt.imshow(x_test[i].reshape(28, 28))\n",
        "    plt.gray()\n",
        "    ax.get_xaxis().set_visible(False)\n",
        "    ax.get_yaxis().set_visible(False)\n",
        "\n",
        "    # autoencoder reconstruction\n",
        "    ax = plt.subplot(2, n, i + n)\n",
        "    plt.imshow(decoded_imgs[i].reshape(28, 28))\n",
        "    plt.gray()\n",
        "    ax.get_xaxis().set_visible(False)\n",
        "    ax.get_yaxis().set_visible(False)\n",
        "plt.show()"
      ],
      "execution_count": 12,
      "outputs": [
        {
          "output_type": "display_data",
          "data": {
            "image/png": "[encoded data removed]",
            "text/plain": [
              "<matplotlib.figure.Figure at 0x7fb6cce905c0>"
            ]
          },
          "metadata": {
            "tags": []
          }
        }
      ]
    },
    {
      "metadata": {
        "id": "1ReQrTtSvvke",
        "colab_type": "text"
      },
      "cell_type": "markdown",
      "source": [
        "**2 Image Classification **"
      ]
    },
    {
      "metadata": {
        "id": "Yi09weqE9crU",
        "colab_type": "text"
      },
      "cell_type": "markdown",
      "source": [
        "The data has 10 classes between 0 and 9, which describe the type of clothing each image represents."
      ]
    },
    {
      "metadata": {
        "id": "FqQAqa9Q2Lyo",
        "colab_type": "code",
        "colab": {
          "base_uri": "https://localhost:8080/",
          "height": 34
        },
        "outputId": "f21ae3e5-ed88-4928-c6b8-900f51555ccd"
      },
      "cell_type": "code",
      "source": [
        "classes = np.unique(y_train)\n",
        "print(classes)"
      ],
      "execution_count": 13,
      "outputs": [
        {
          "output_type": "stream",
          "text": [
            "[0 1 2 3 4 5 6 7 8 9]\n"
          ],
          "name": "stdout"
        }
      ]
    },
    {
      "metadata": {
        "id": "cz4EoVnoTT52",
        "colab_type": "code",
        "colab": {}
      },
      "cell_type": "code",
      "source": [
        "#convert classes to 10 dimension matrices (one-hot encoding)\n",
        "y_train = np_utils.to_categorical(y_train, 10)\n",
        "y_test = np_utils.to_categorical(y_test, 10)"
      ],
      "execution_count": 0,
      "outputs": []
    },
    {
      "metadata": {
        "id": "nlPODoZTKQpi",
        "colab_type": "code",
        "colab": {}
      },
      "cell_type": "code",
      "source": [
        "train_x,valid_x,train_label,valid_label = train_test_split(x_train, y_train, test_size=0.2, random_state=13)"
      ],
      "execution_count": 0,
      "outputs": []
    },
    {
      "metadata": {
        "id": "hm7Xa_3rhAAq",
        "colab_type": "text"
      },
      "cell_type": "markdown",
      "source": [
        "**2.1 Deep CNN**"
      ]
    },
    {
      "metadata": {
        "id": "dF0oFCxpW-DB",
        "colab_type": "code",
        "colab": {}
      },
      "cell_type": "code",
      "source": [
        "fashion_model = Sequential()\n",
        "\n",
        "'''\n",
        "I will use leaky ReLU because I read in some article somewhere that leaky \n",
        "ReLU corrects the dying ReLU problem over large gradients.\n",
        "\n",
        "I have chosen the kernels to be size 3x3 and the strides to be 1x1 to \n",
        "gradually sub-sample the inputs. I also chose a pool size of 2x2 to \n",
        "downsample gradually.\n",
        "\n",
        "I have chosen valid padding because the most important information in the image\n",
        "will likely be towards the center, not on the perimeter where valid padding will\n",
        "lose some information. \n",
        "\n",
        "For network depth, I chose two layers because I didn't want the model to get\n",
        "too complicated.\n",
        "\n",
        "'''\n",
        "fashion_model.add(Conv2D(32, kernel_size = (3, 3),\n",
        "                         activation='linear',\n",
        "                         input_shape=(28,28,1),\n",
        "                         strides=(1, 1),\n",
        "                         padding='valid'))\n",
        "fashion_model.add(LeakyReLU(alpha=0.1))\n",
        "fashion_model.add(MaxPooling2D((2, 2),padding='valid'))\n",
        "fashion_model.add(Dropout(0.25))\n",
        "\n",
        "\n",
        "fashion_model.add(Conv2D(64, kernel_size = (3, 3), \n",
        "                         activation='linear',\n",
        "                         strides=(1, 1),\n",
        "                         padding='valid'))\n",
        "fashion_model.add(LeakyReLU(alpha=0.1))\n",
        "fashion_model.add(MaxPooling2D(pool_size=(2, 2),padding='valid'))\n",
        "fashion_model.add(Dropout(0.25)) \n",
        "\n",
        "\n",
        "# fully connected layer\n",
        "fashion_model.add(Flatten())\n",
        "fashion_model.add(Dense(64, activation='linear'))\n",
        "fashion_model.add(LeakyReLU(alpha=0.5))\n",
        "fashion_model.add(Dropout(0.5))                 \n",
        "fashion_model.add(Dense(len(classes), activation='softmax'))"
      ],
      "execution_count": 0,
      "outputs": []
    },
    {
      "metadata": {
        "id": "xzWW7HlAp1Zk",
        "colab_type": "text"
      },
      "cell_type": "markdown",
      "source": [
        "The summary of the model shows that we have a total of 121,930 parameters over 13 layers."
      ]
    },
    {
      "metadata": {
        "id": "brAR4kvIkULM",
        "colab_type": "code",
        "colab": {
          "base_uri": "https://localhost:8080/",
          "height": 578
        },
        "outputId": "d185ce10-accb-4f84-f882-4a263754dcf6"
      },
      "cell_type": "code",
      "source": [
        "fashion_model.compile(loss= 'categorical_crossentropy', optimizer = 'Adam', metrics=['accuracy'])\n",
        "fashion_model.summary()"
      ],
      "execution_count": 17,
      "outputs": [
        {
          "output_type": "stream",
          "text": [
            "_________________________________________________________________\n",
            "Layer (type)                 Output Shape              Param #   \n",
            "=================================================================\n",
            "conv2d_8 (Conv2D)            (None, 26, 26, 32)        320       \n",
            "_________________________________________________________________\n",
            "leaky_re_lu_1 (LeakyReLU)    (None, 26, 26, 32)        0         \n",
            "_________________________________________________________________\n",
            "max_pooling2d_4 (MaxPooling2 (None, 13, 13, 32)        0         \n",
            "_________________________________________________________________\n",
            "dropout_1 (Dropout)          (None, 13, 13, 32)        0         \n",
            "_________________________________________________________________\n",
            "conv2d_9 (Conv2D)            (None, 11, 11, 64)        18496     \n",
            "_________________________________________________________________\n",
            "leaky_re_lu_2 (LeakyReLU)    (None, 11, 11, 64)        0         \n",
            "_________________________________________________________________\n",
            "max_pooling2d_5 (MaxPooling2 (None, 5, 5, 64)          0         \n",
            "_________________________________________________________________\n",
            "dropout_2 (Dropout)          (None, 5, 5, 64)          0         \n",
            "_________________________________________________________________\n",
            "flatten_1 (Flatten)          (None, 1600)              0         \n",
            "_________________________________________________________________\n",
            "dense_1 (Dense)              (None, 64)                102464    \n",
            "_________________________________________________________________\n",
            "leaky_re_lu_3 (LeakyReLU)    (None, 64)                0         \n",
            "_________________________________________________________________\n",
            "dropout_3 (Dropout)          (None, 64)                0         \n",
            "_________________________________________________________________\n",
            "dense_2 (Dense)              (None, 10)                650       \n",
            "=================================================================\n",
            "Total params: 121,930\n",
            "Trainable params: 121,930\n",
            "Non-trainable params: 0\n",
            "_________________________________________________________________\n"
          ],
          "name": "stdout"
        }
      ]
    },
    {
      "metadata": {
        "id": "2FHGcozHJSGy",
        "colab_type": "code",
        "colab": {
          "base_uri": "https://localhost:8080/",
          "height": 374
        },
        "outputId": "6107f20e-b294-4c75-dfcb-21def8000602"
      },
      "cell_type": "code",
      "source": [
        "fashion_train = fashion_model.fit(train_x, train_label, batch_size = 64,\n",
        "                                  epochs = 10,verbose=1,validation_data=(valid_x, valid_label))"
      ],
      "execution_count": 18,
      "outputs": [
        {
          "output_type": "stream",
          "text": [
            "Train on 48000 samples, validate on 12000 samples\n",
            "Epoch 1/10\n",
            "48000/48000 [==============================] - 11s 221us/step - loss: 0.6613 - acc: 0.7621 - val_loss: 0.4211 - val_acc: 0.8482\n",
            "Epoch 2/10\n",
            "48000/48000 [==============================] - 10s 200us/step - loss: 0.4401 - acc: 0.8433 - val_loss: 0.3538 - val_acc: 0.8735\n",
            "Epoch 3/10\n",
            "48000/48000 [==============================] - 10s 200us/step - loss: 0.3921 - acc: 0.8603 - val_loss: 0.3229 - val_acc: 0.8872\n",
            "Epoch 4/10\n",
            "48000/48000 [==============================] - 10s 201us/step - loss: 0.3564 - acc: 0.8746 - val_loss: 0.3094 - val_acc: 0.8863\n",
            "Epoch 5/10\n",
            "48000/48000 [==============================] - 10s 200us/step - loss: 0.3451 - acc: 0.8762 - val_loss: 0.2968 - val_acc: 0.8936\n",
            "Epoch 6/10\n",
            "48000/48000 [==============================] - 10s 199us/step - loss: 0.3278 - acc: 0.8835 - val_loss: 0.2978 - val_acc: 0.8886\n",
            "Epoch 7/10\n",
            "48000/48000 [==============================] - 10s 199us/step - loss: 0.3178 - acc: 0.8860 - val_loss: 0.2940 - val_acc: 0.8948\n",
            "Epoch 8/10\n",
            "48000/48000 [==============================] - 10s 199us/step - loss: 0.3074 - acc: 0.8890 - val_loss: 0.3119 - val_acc: 0.8858\n",
            "Epoch 9/10\n",
            "48000/48000 [==============================] - 10s 200us/step - loss: 0.3010 - acc: 0.8910 - val_loss: 0.2664 - val_acc: 0.9040\n",
            "Epoch 10/10\n",
            "48000/48000 [==============================] - 10s 199us/step - loss: 0.2937 - acc: 0.8931 - val_loss: 0.2931 - val_acc: 0.8923\n"
          ],
          "name": "stdout"
        }
      ]
    },
    {
      "metadata": {
        "id": "0Q2hzLsBJSoN",
        "colab_type": "code",
        "colab": {}
      },
      "cell_type": "code",
      "source": [
        "test_eval = fashion_model.evaluate(x_test, y_test, verbose=0)"
      ],
      "execution_count": 0,
      "outputs": []
    },
    {
      "metadata": {
        "id": "SrXdbir2qlMl",
        "colab_type": "text"
      },
      "cell_type": "markdown",
      "source": [
        "Over 10 epochs, the model improved from a validation loss and accuracy of about 0.421 and 0.848, to about 0.293 and 0.892, respectively. The model also performed better in terms of accuracy on the validation set than the training set, suggesting the model was not overfitting."
      ]
    },
    {
      "metadata": {
        "id": "6WfZ6NFukgea",
        "colab_type": "text"
      },
      "cell_type": "markdown",
      "source": [
        "**2.2 Transfer Learning**"
      ]
    },
    {
      "metadata": {
        "id": "SK7W_-w1rgbb",
        "colab_type": "text"
      },
      "cell_type": "markdown",
      "source": [
        "The data has already been set up into three channels for VGG16."
      ]
    },
    {
      "metadata": {
        "id": "KQB_KR_ar1dW",
        "colab_type": "text"
      },
      "cell_type": "markdown",
      "source": [
        "The convolutional base has a total of 14,714,688 parameters over 19 layers."
      ]
    },
    {
      "metadata": {
        "id": "oM6Oa0M-W-Gd",
        "colab_type": "code",
        "colab": {
          "base_uri": "https://localhost:8080/",
          "height": 782
        },
        "outputId": "f7946dfb-1330-4191-c683-153926355cd5"
      },
      "cell_type": "code",
      "source": [
        "conv_base = VGG16(weights=\"imagenet\", include_top=False, input_shape=(48, 48, 3))\n",
        "conv_base.trainable = False\n",
        "conv_base.summary()"
      ],
      "execution_count": 204,
      "outputs": [
        {
          "output_type": "stream",
          "text": [
            "_________________________________________________________________\n",
            "Layer (type)                 Output Shape              Param #   \n",
            "=================================================================\n",
            "input_3 (InputLayer)         (None, 48, 48, 3)         0         \n",
            "_________________________________________________________________\n",
            "block1_conv1 (Conv2D)        (None, 48, 48, 64)        1792      \n",
            "_________________________________________________________________\n",
            "block1_conv2 (Conv2D)        (None, 48, 48, 64)        36928     \n",
            "_________________________________________________________________\n",
            "block1_pool (MaxPooling2D)   (None, 24, 24, 64)        0         \n",
            "_________________________________________________________________\n",
            "block2_conv1 (Conv2D)        (None, 24, 24, 128)       73856     \n",
            "_________________________________________________________________\n",
            "block2_conv2 (Conv2D)        (None, 24, 24, 128)       147584    \n",
            "_________________________________________________________________\n",
            "block2_pool (MaxPooling2D)   (None, 12, 12, 128)       0         \n",
            "_________________________________________________________________\n",
            "block3_conv1 (Conv2D)        (None, 12, 12, 256)       295168    \n",
            "_________________________________________________________________\n",
            "block3_conv2 (Conv2D)        (None, 12, 12, 256)       590080    \n",
            "_________________________________________________________________\n",
            "block3_conv3 (Conv2D)        (None, 12, 12, 256)       590080    \n",
            "_________________________________________________________________\n",
            "block3_pool (MaxPooling2D)   (None, 6, 6, 256)         0         \n",
            "_________________________________________________________________\n",
            "block4_conv1 (Conv2D)        (None, 6, 6, 512)         1180160   \n",
            "_________________________________________________________________\n",
            "block4_conv2 (Conv2D)        (None, 6, 6, 512)         2359808   \n",
            "_________________________________________________________________\n",
            "block4_conv3 (Conv2D)        (None, 6, 6, 512)         2359808   \n",
            "_________________________________________________________________\n",
            "block4_pool (MaxPooling2D)   (None, 3, 3, 512)         0         \n",
            "_________________________________________________________________\n",
            "block5_conv1 (Conv2D)        (None, 3, 3, 512)         2359808   \n",
            "_________________________________________________________________\n",
            "block5_conv2 (Conv2D)        (None, 3, 3, 512)         2359808   \n",
            "_________________________________________________________________\n",
            "block5_conv3 (Conv2D)        (None, 3, 3, 512)         2359808   \n",
            "_________________________________________________________________\n",
            "block5_pool (MaxPooling2D)   (None, 1, 1, 512)         0         \n",
            "=================================================================\n",
            "Total params: 14,714,688\n",
            "Trainable params: 0\n",
            "Non-trainable params: 14,714,688\n",
            "_________________________________________________________________\n"
          ],
          "name": "stdout"
        }
      ]
    },
    {
      "metadata": {
        "id": "V54f1HeTZIJT",
        "colab_type": "code",
        "colab": {
          "base_uri": "https://localhost:8080/",
          "height": 68
        },
        "outputId": "2bac4464-5c03-4dd3-c0cb-66a5e0507a1e"
      },
      "cell_type": "code",
      "source": [
        "#extract features from convolutional base\n",
        "train_features = conv_base.predict(np.array(train_X), batch_size=32, verbose=1)\n",
        "test_features = conv_base.predict(np.array(test_X), batch_size=32, verbose=1)\n",
        "val_features = conv_base.predict(np.array(valid_X), batch_size=32, verbose=1)"
      ],
      "execution_count": 205,
      "outputs": [
        {
          "output_type": "stream",
          "text": [
            "48000/48000 [==============================] - 39s 804us/step\n",
            "10000/10000 [==============================] - 8s 797us/step\n",
            "12000/12000 [==============================] - 9s 786us/step\n"
          ],
          "name": "stdout"
        }
      ]
    },
    {
      "metadata": {
        "id": "TttwIkSVZIMb",
        "colab_type": "code",
        "colab": {}
      },
      "cell_type": "code",
      "source": [
        "#flatten extracted features\n",
        "train_features_flat = np.reshape(train_features, (48000, 1*1*512))\n",
        "test_features_flat = np.reshape(test_features, (10000, 1*1*512))\n",
        "val_features_flat = np.reshape(val_features, (12000, 1*1*512))"
      ],
      "execution_count": 0,
      "outputs": []
    },
    {
      "metadata": {
        "id": "xJYBM0RlNo3y",
        "colab_type": "code",
        "colab": {}
      },
      "cell_type": "code",
      "source": [
        "model = Sequential()\n",
        "model.add(Dense(512, activation='relu', input_dim=(1*1*512)))\n",
        "model.add(LeakyReLU(alpha=0.1))\n",
        "model.add(Dense(len(classes), activation='softmax'))"
      ],
      "execution_count": 0,
      "outputs": []
    },
    {
      "metadata": {
        "id": "NW1fkkwusqn-",
        "colab_type": "text"
      },
      "cell_type": "markdown",
      "source": [
        "Our model with only three layers has a total of 267,786 parameters."
      ]
    },
    {
      "metadata": {
        "id": "QgiEvO47W-JJ",
        "colab_type": "code",
        "colab": {
          "base_uri": "https://localhost:8080/",
          "height": 238
        },
        "outputId": "90b5ed66-06c2-4268-fb38-314292facd5e"
      },
      "cell_type": "code",
      "source": [
        "model.summary()"
      ],
      "execution_count": 208,
      "outputs": [
        {
          "output_type": "stream",
          "text": [
            "_________________________________________________________________\n",
            "Layer (type)                 Output Shape              Param #   \n",
            "=================================================================\n",
            "dense_25 (Dense)             (None, 512)               262656    \n",
            "_________________________________________________________________\n",
            "leaky_re_lu_6 (LeakyReLU)    (None, 512)               0         \n",
            "_________________________________________________________________\n",
            "dense_26 (Dense)             (None, 10)                5130      \n",
            "=================================================================\n",
            "Total params: 267,786\n",
            "Trainable params: 267,786\n",
            "Non-trainable params: 0\n",
            "_________________________________________________________________\n"
          ],
          "name": "stdout"
        }
      ]
    },
    {
      "metadata": {
        "id": "OyesKwLAPn6f",
        "colab_type": "code",
        "colab": {}
      },
      "cell_type": "code",
      "source": [
        "model.compile(loss=\"categorical_crossentropy\", optimizer = 'Adam',metrics=[\"accuracy\"])"
      ],
      "execution_count": 0,
      "outputs": []
    },
    {
      "metadata": {
        "id": "Ks5i35wkPn9F",
        "colab_type": "code",
        "colab": {
          "base_uri": "https://localhost:8080/",
          "height": 374
        },
        "outputId": "46b5ff32-aada-4a12-b6a4-15d0d70a6b73"
      },
      "cell_type": "code",
      "source": [
        "#train model with convolutional base features\n",
        "trans_model = model.fit(\n",
        "    train_features_flat,\n",
        "    train_Label,\n",
        "    epochs=10,\n",
        "    validation_data=(val_features_flat, valid_Label))"
      ],
      "execution_count": 210,
      "outputs": [
        {
          "output_type": "stream",
          "text": [
            "Train on 48000 samples, validate on 12000 samples\n",
            "Epoch 1/10\n",
            "48000/48000 [==============================] - 10s 206us/step - loss: 1.8395 - acc: 0.3279 - val_loss: 1.7393 - val_acc: 0.3663\n",
            "Epoch 2/10\n",
            "48000/48000 [==============================] - 9s 184us/step - loss: 1.7025 - acc: 0.3784 - val_loss: 1.6796 - val_acc: 0.3915\n",
            "Epoch 3/10\n",
            "48000/48000 [==============================] - 9s 185us/step - loss: 1.6627 - acc: 0.3882 - val_loss: 1.6479 - val_acc: 0.3987\n",
            "Epoch 4/10\n",
            "48000/48000 [==============================] - 9s 185us/step - loss: 1.6390 - acc: 0.3962 - val_loss: 1.6304 - val_acc: 0.4035\n",
            "Epoch 5/10\n",
            "48000/48000 [==============================] - 9s 184us/step - loss: 1.6202 - acc: 0.4021 - val_loss: 1.6420 - val_acc: 0.4016\n",
            "Epoch 6/10\n",
            "48000/48000 [==============================] - 9s 186us/step - loss: 1.6060 - acc: 0.4071 - val_loss: 1.6336 - val_acc: 0.3953\n",
            "Epoch 7/10\n",
            "48000/48000 [==============================] - 9s 186us/step - loss: 1.5945 - acc: 0.4121 - val_loss: 1.6054 - val_acc: 0.4139\n",
            "Epoch 8/10\n",
            "48000/48000 [==============================] - 9s 187us/step - loss: 1.5862 - acc: 0.4132 - val_loss: 1.6122 - val_acc: 0.4153\n",
            "Epoch 9/10\n",
            "48000/48000 [==============================] - 9s 184us/step - loss: 1.5800 - acc: 0.4150 - val_loss: 1.6059 - val_acc: 0.4125\n",
            "Epoch 10/10\n",
            "48000/48000 [==============================] - 9s 185us/step - loss: 1.5725 - acc: 0.4190 - val_loss: 1.5963 - val_acc: 0.4128\n"
          ],
          "name": "stdout"
        }
      ]
    },
    {
      "metadata": {
        "id": "l7FeY-wYvH_X",
        "colab_type": "text"
      },
      "cell_type": "markdown",
      "source": [
        "The transfer learning model improved over 10 epochs from a validation loss and accuracy of about 1.739 and 0.366 to about 1.596 and 0.413, respectively. The training losses and accuracies are similarly poor. Overall, this model performed much worse than the deep CNN in the previous part. \n",
        "\n",
        "\n"
      ]
    },
    {
      "metadata": {
        "id": "umizuscivngN",
        "colab_type": "text"
      },
      "cell_type": "markdown",
      "source": [
        "**3 Text Classification**"
      ]
    },
    {
      "metadata": {
        "id": "jZf9wOafsuuR",
        "colab_type": "code",
        "colab": {}
      },
      "cell_type": "code",
      "source": [
        "#make sure .txt files are in correct folder\n",
        "\n",
        "ben = pd.read_csv('benign-urls.txt', header=None)\n",
        "ben.columns = [\"url\"]\n",
        "ben['ben0_mal1'] = 0 \n",
        "\n",
        "mal = pd.read_csv('malicious-urls.txt', header=None)\n",
        "mal.columns = [\"url\"]\n",
        "mal['ben0_mal1'] = 1\n",
        "\n",
        "#column of ones (malicious) and zeros (bengin) are labels for model\n",
        "\n",
        "url_data = ben.append(mal)\n",
        "url_data.reset_index(drop=True, inplace=True)\n",
        "\n",
        "y = list(url_data.pop('ben0_mal1'))\n",
        "X = list(url_data['url'])"
      ],
      "execution_count": 0,
      "outputs": []
    },
    {
      "metadata": {
        "id": "Xv-bZmExYVUA",
        "colab_type": "code",
        "colab": {}
      },
      "cell_type": "code",
      "source": [
        "#tokenize urls by character\n",
        "tokenizer = Tokenizer(char_level=True)\n",
        "tokenizer.fit_on_texts(X)\n",
        "url_tokens = tokenizer.texts_to_sequences(X)"
      ],
      "execution_count": 0,
      "outputs": []
    },
    {
      "metadata": {
        "id": "GP-EiC7gc1uw",
        "colab_type": "code",
        "colab": {}
      },
      "cell_type": "code",
      "source": [
        "#pad tokenized urls to be length of longest url\n",
        "max_url = max(len(x) for x in url_tokens)\n",
        "url_tokens = sequence.pad_sequences(url_tokens, max_url)"
      ],
      "execution_count": 0,
      "outputs": []
    },
    {
      "metadata": {
        "id": "pOWKyP_bwAQD",
        "colab_type": "code",
        "colab": {}
      },
      "cell_type": "code",
      "source": [
        "#convert tokens to matrix \n",
        "url_tokens = np.asmatrix(url_tokens)"
      ],
      "execution_count": 0,
      "outputs": []
    },
    {
      "metadata": {
        "id": "18yzh2T2wAS6",
        "colab_type": "code",
        "colab": {}
      },
      "cell_type": "code",
      "source": [
        "X_train, X_test, y_train, y_test = train_test_split(url_tokens, y, test_size=0.20, random_state=13)"
      ],
      "execution_count": 0,
      "outputs": []
    },
    {
      "metadata": {
        "id": "_z0bnbFjlw6_",
        "colab_type": "text"
      },
      "cell_type": "markdown",
      "source": [
        "**3.1 RNN**"
      ]
    },
    {
      "metadata": {
        "id": "YKUsXFzRPn_u",
        "colab_type": "code",
        "colab": {}
      },
      "cell_type": "code",
      "source": [
        "model = Sequential()\n",
        "\n",
        "#embed based on tokens (1 through 44)\n",
        "model.add(Embedding(input_dim=44,\n",
        "                      output_dim=32,\n",
        "                      input_length = max_url))\n",
        "model.add(Dropout(0.25))\n",
        "\n",
        "model.add(LSTM(150,\n",
        "               input_shape=(max_url,44)))\n",
        "\n",
        "model.add(Dense(250, activation='relu'))\n",
        "model.add(Dropout(0.2))\n",
        "\n",
        "#sigmoid activation for binary classification\n",
        "model.add(Dense(1, activation='sigmoid'))"
      ],
      "execution_count": 0,
      "outputs": []
    },
    {
      "metadata": {
        "id": "dYM3jdXNcGTo",
        "colab_type": "code",
        "colab": {
          "base_uri": "https://localhost:8080/",
          "height": 340
        },
        "outputId": "0a729989-a22a-41cb-e795-f09ec9fc9dd3"
      },
      "cell_type": "code",
      "source": [
        "model.compile(loss='binary_crossentropy', optimizer='adam', metrics=['accuracy'])\n",
        "model.summary()"
      ],
      "execution_count": 237,
      "outputs": [
        {
          "output_type": "stream",
          "text": [
            "_________________________________________________________________\n",
            "Layer (type)                 Output Shape              Param #   \n",
            "=================================================================\n",
            "embedding_16 (Embedding)     (None, 86, 32)            1408      \n",
            "_________________________________________________________________\n",
            "dropout_30 (Dropout)         (None, 86, 32)            0         \n",
            "_________________________________________________________________\n",
            "lstm_11 (LSTM)               (None, 150)               109800    \n",
            "_________________________________________________________________\n",
            "dense_31 (Dense)             (None, 250)               37750     \n",
            "_________________________________________________________________\n",
            "dropout_31 (Dropout)         (None, 250)               0         \n",
            "_________________________________________________________________\n",
            "dense_32 (Dense)             (None, 1)                 251       \n",
            "=================================================================\n",
            "Total params: 149,209\n",
            "Trainable params: 149,209\n",
            "Non-trainable params: 0\n",
            "_________________________________________________________________\n"
          ],
          "name": "stdout"
        }
      ]
    },
    {
      "metadata": {
        "id": "eQ_voAlJeu32",
        "colab_type": "code",
        "colab": {}
      },
      "cell_type": "code",
      "source": [
        "'''\n",
        "The number of samples is highly skewed towards benign urls. \n",
        "We will balance weights to hopefully lower the rate of false negatives.\n",
        "'''\n",
        "class_weights = class_weight.compute_class_weight('balanced',np.unique(y_train),y_train)"
      ],
      "execution_count": 0,
      "outputs": []
    },
    {
      "metadata": {
        "id": "SBSv51MgZISb",
        "colab_type": "code",
        "colab": {
          "base_uri": "https://localhost:8080/",
          "height": 391
        },
        "outputId": "bf7db292-da8c-4247-bce8-5fcdd5c70e2d"
      },
      "cell_type": "code",
      "source": [
        "model.fit(X_train, y_train, batch_size = 64, epochs = 10, \n",
        "          validation_data = (X_test, y_test),class_weight=class_weights)"
      ],
      "execution_count": 240,
      "outputs": [
        {
          "output_type": "stream",
          "text": [
            "Train on 53881 samples, validate on 13471 samples\n",
            "Epoch 1/10\n",
            "53881/53881 [==============================] - 217s 4ms/step - loss: 0.0464 - acc: 0.9830 - val_loss: 0.0239 - val_acc: 0.9874\n",
            "Epoch 2/10\n",
            "53881/53881 [==============================] - 217s 4ms/step - loss: 0.0253 - acc: 0.9873 - val_loss: 0.0224 - val_acc: 0.9895\n",
            "Epoch 3/10\n",
            "53881/53881 [==============================] - 218s 4ms/step - loss: 0.0244 - acc: 0.9883 - val_loss: 0.0225 - val_acc: 0.9888\n",
            "Epoch 4/10\n",
            "53881/53881 [==============================] - 216s 4ms/step - loss: 0.0230 - acc: 0.9886 - val_loss: 0.0205 - val_acc: 0.9898\n",
            "Epoch 5/10\n",
            "53881/53881 [==============================] - 218s 4ms/step - loss: 0.0226 - acc: 0.9890 - val_loss: 0.0202 - val_acc: 0.9899\n",
            "Epoch 6/10\n",
            "53881/53881 [==============================] - 217s 4ms/step - loss: 0.0222 - acc: 0.9890 - val_loss: 0.0205 - val_acc: 0.9893\n",
            "Epoch 7/10\n",
            "53881/53881 [==============================] - 217s 4ms/step - loss: 0.0218 - acc: 0.9891 - val_loss: 0.0201 - val_acc: 0.9899\n",
            "Epoch 8/10\n",
            "53881/53881 [==============================] - 216s 4ms/step - loss: 0.0213 - acc: 0.9894 - val_loss: 0.0203 - val_acc: 0.9901\n",
            "Epoch 9/10\n",
            "53881/53881 [==============================] - 217s 4ms/step - loss: 0.0207 - acc: 0.9898 - val_loss: 0.0194 - val_acc: 0.9897\n",
            "Epoch 10/10\n",
            "53881/53881 [==============================] - 216s 4ms/step - loss: 0.0200 - acc: 0.9902 - val_loss: 0.0192 - val_acc: 0.9895\n"
          ],
          "name": "stdout"
        },
        {
          "output_type": "execute_result",
          "data": {
            "text/plain": [
              "<keras.callbacks.History at 0x7fb59a01dc18>"
            ]
          },
          "metadata": {
            "tags": []
          },
          "execution_count": 240
        }
      ]
    },
    {
      "metadata": {
        "id": "KD7iUejOW-Lk",
        "colab_type": "code",
        "colab": {}
      },
      "cell_type": "code",
      "source": [
        "y_test_preds_rnn = model.predict(X_test, batch_size=64)\n",
        "y_test_preds_class_rnn = y_test_preds_rnn > 0.5"
      ],
      "execution_count": 0,
      "outputs": []
    },
    {
      "metadata": {
        "id": "-WT4VeoWxlnZ",
        "colab_type": "text"
      },
      "cell_type": "markdown",
      "source": [
        "The RNN model performed well in terms of accuracy on the validation set. This is not surprising because the data was highly skewed towards one label (benign). The confusion matrix below shows that we have:\n",
        "\n",
        "false positive rate = 0.007\n",
        "\n",
        "true positive rate = 0.993\n",
        "\n",
        "true negative rate = 0.813\n",
        "\n",
        "false negative rate = 0.187\n",
        "\n",
        "The model still struggled with labeling malicious urls as benign.\n"
      ]
    },
    {
      "metadata": {
        "id": "hgmPkzHsjGlF",
        "colab_type": "code",
        "colab": {
          "base_uri": "https://localhost:8080/",
          "height": 173
        },
        "outputId": "96ac22e2-b1cf-4631-fcc2-56d2bba5798c"
      },
      "cell_type": "code",
      "source": [
        "y_test_arr = np.asarray(y_test)\n",
        "pd.crosstab(y_test_arr, y_test_preds_class_rnn[:,0], colnames=['Predicted'], margins=True)\n",
        "\n",
        "#0 is benign, 1 is malicious"
      ],
      "execution_count": 242,
      "outputs": [
        {
          "output_type": "execute_result",
          "data": {
            "text/html": [
              "<div>\n",
              "<style scoped>\n",
              "    .dataframe tbody tr th:only-of-type {\n",
              "        vertical-align: middle;\n",
              "    }\n",
              "\n",
              "    .dataframe tbody tr th {\n",
              "        vertical-align: top;\n",
              "    }\n",
              "\n",
              "    .dataframe thead th {\n",
              "        text-align: right;\n",
              "    }\n",
              "</style>\n",
              "<table border=\"1\" class=\"dataframe\">\n",
              "  <thead>\n",
              "    <tr style=\"text-align: right;\">\n",
              "      <th>Predicted</th>\n",
              "      <th>False</th>\n",
              "      <th>True</th>\n",
              "      <th>All</th>\n",
              "    </tr>\n",
              "    <tr>\n",
              "      <th>row_0</th>\n",
              "      <th></th>\n",
              "      <th></th>\n",
              "      <th></th>\n",
              "    </tr>\n",
              "  </thead>\n",
              "  <tbody>\n",
              "    <tr>\n",
              "      <th>0</th>\n",
              "      <td>13120</td>\n",
              "      <td>94</td>\n",
              "      <td>13214</td>\n",
              "    </tr>\n",
              "    <tr>\n",
              "      <th>1</th>\n",
              "      <td>48</td>\n",
              "      <td>209</td>\n",
              "      <td>257</td>\n",
              "    </tr>\n",
              "    <tr>\n",
              "      <th>All</th>\n",
              "      <td>13168</td>\n",
              "      <td>303</td>\n",
              "      <td>13471</td>\n",
              "    </tr>\n",
              "  </tbody>\n",
              "</table>\n",
              "</div>"
            ],
            "text/plain": [
              "Predicted  False  True    All\n",
              "row_0                        \n",
              "0          13120    94  13214\n",
              "1             48   209    257\n",
              "All        13168   303  13471"
            ]
          },
          "metadata": {
            "tags": []
          },
          "execution_count": 242
        }
      ]
    },
    {
      "metadata": {
        "id": "8Ny4shXtl01E",
        "colab_type": "text"
      },
      "cell_type": "markdown",
      "source": [
        "**3.2 CNN**"
      ]
    },
    {
      "metadata": {
        "id": "2RmPYXoJfry0",
        "colab_type": "code",
        "colab": {}
      },
      "cell_type": "code",
      "source": [
        "model = Sequential()\n",
        "\n",
        "#embed based on tokens (1 through 44)\n",
        "model.add(Embedding(input_dim=44,\n",
        "                      output_dim=32,\n",
        "                      input_length=max_url))\n",
        "model.add(Dropout(0.2))\n",
        "\n",
        "model.add(Conv1D(filters=64,\n",
        "                 kernel_size=3,\n",
        "                 padding='valid',\n",
        "                 activation='relu',\n",
        "                 strides=1))\n",
        "model.add(GlobalMaxPooling1D())\n",
        "\n",
        "model.add(Dense(250, activation='relu'))\n",
        "model.add(Dropout(0.2))\n",
        "\n",
        "#sigmoid activation for binary classification\n",
        "model.add(Dense(1, activation=\"sigmoid\"))"
      ],
      "execution_count": 0,
      "outputs": []
    },
    {
      "metadata": {
        "id": "uv4ctDM51ycM",
        "colab_type": "text"
      },
      "cell_type": "markdown",
      "source": [
        "The model has 7 layers with a total of 24,117 parameters."
      ]
    },
    {
      "metadata": {
        "id": "0NaXRXNel6tT",
        "colab_type": "code",
        "colab": {
          "base_uri": "https://localhost:8080/",
          "height": 374
        },
        "outputId": "cc0929dd-fe5e-4a59-abc1-bf6b55df8165"
      },
      "cell_type": "code",
      "source": [
        "model.compile(loss='binary_crossentropy', optimizer='adam', metrics=['accuracy'])\n",
        "model.summary()"
      ],
      "execution_count": 248,
      "outputs": [
        {
          "output_type": "stream",
          "text": [
            "_________________________________________________________________\n",
            "Layer (type)                 Output Shape              Param #   \n",
            "=================================================================\n",
            "embedding_17 (Embedding)     (None, 86, 32)            1408      \n",
            "_________________________________________________________________\n",
            "dropout_32 (Dropout)         (None, 86, 32)            0         \n",
            "_________________________________________________________________\n",
            "conv1d_5 (Conv1D)            (None, 84, 64)            6208      \n",
            "_________________________________________________________________\n",
            "global_max_pooling1d_5 (Glob (None, 64)                0         \n",
            "_________________________________________________________________\n",
            "dense_33 (Dense)             (None, 250)               16250     \n",
            "_________________________________________________________________\n",
            "dropout_33 (Dropout)         (None, 250)               0         \n",
            "_________________________________________________________________\n",
            "dense_34 (Dense)             (None, 1)                 251       \n",
            "=================================================================\n",
            "Total params: 24,117\n",
            "Trainable params: 24,117\n",
            "Non-trainable params: 0\n",
            "_________________________________________________________________\n"
          ],
          "name": "stdout"
        }
      ]
    },
    {
      "metadata": {
        "id": "kKs49jDdl6v9",
        "colab_type": "code",
        "colab": {
          "base_uri": "https://localhost:8080/",
          "height": 391
        },
        "outputId": "efcd0d01-c438-4af2-b20c-6cdf4a1d9618"
      },
      "cell_type": "code",
      "source": [
        "model.fit(X_train, y_train, batch_size=64, epochs = 10,\n",
        "          validation_data=(X_test, y_test), class_weight=class_weights)"
      ],
      "execution_count": 249,
      "outputs": [
        {
          "output_type": "stream",
          "text": [
            "Train on 53881 samples, validate on 13471 samples\n",
            "Epoch 1/10\n",
            "53881/53881 [==============================] - 9s 169us/step - loss: 0.0730 - acc: 0.9802 - val_loss: 0.0340 - val_acc: 0.9850\n",
            "Epoch 2/10\n",
            "53881/53881 [==============================] - 8s 143us/step - loss: 0.0320 - acc: 0.9863 - val_loss: 0.0226 - val_acc: 0.9896\n",
            "Epoch 3/10\n",
            "53881/53881 [==============================] - 8s 141us/step - loss: 0.0244 - acc: 0.9888 - val_loss: 0.0195 - val_acc: 0.9912\n",
            "Epoch 4/10\n",
            "53881/53881 [==============================] - 8s 141us/step - loss: 0.0223 - acc: 0.9899 - val_loss: 0.0189 - val_acc: 0.9909\n",
            "Epoch 5/10\n",
            "53881/53881 [==============================] - 8s 141us/step - loss: 0.0206 - acc: 0.9906 - val_loss: 0.0237 - val_acc: 0.9892\n",
            "Epoch 6/10\n",
            "53881/53881 [==============================] - 8s 140us/step - loss: 0.0191 - acc: 0.9920 - val_loss: 0.0225 - val_acc: 0.9905\n",
            "Epoch 7/10\n",
            "53881/53881 [==============================] - 8s 140us/step - loss: 0.0184 - acc: 0.9921 - val_loss: 0.0197 - val_acc: 0.9912\n",
            "Epoch 8/10\n",
            "53881/53881 [==============================] - 8s 141us/step - loss: 0.0172 - acc: 0.9925 - val_loss: 0.0182 - val_acc: 0.9918\n",
            "Epoch 9/10\n",
            "53881/53881 [==============================] - 8s 141us/step - loss: 0.0166 - acc: 0.9928 - val_loss: 0.0185 - val_acc: 0.9912\n",
            "Epoch 10/10\n",
            "53881/53881 [==============================] - 8s 140us/step - loss: 0.0160 - acc: 0.9930 - val_loss: 0.0194 - val_acc: 0.9918\n"
          ],
          "name": "stdout"
        },
        {
          "output_type": "execute_result",
          "data": {
            "text/plain": [
              "<keras.callbacks.History at 0x7fb5f3a0bb00>"
            ]
          },
          "metadata": {
            "tags": []
          },
          "execution_count": 249
        }
      ]
    },
    {
      "metadata": {
        "id": "xKtlVOn7l6yg",
        "colab_type": "code",
        "colab": {}
      },
      "cell_type": "code",
      "source": [
        "y_test_preds_cnn = model.predict(X_test, batch_size=64)\n",
        "y_test_preds_class_cnn = y_test_preds_cnn > 0.5"
      ],
      "execution_count": 0,
      "outputs": []
    },
    {
      "metadata": {
        "id": "5_MrCplo2aTk",
        "colab_type": "text"
      },
      "cell_type": "markdown",
      "source": [
        "The CNN model performed well in terms of accuracy on the validation set, similar to the RNN model. The confusion matrix below shows that we have:\n",
        "\n",
        "false positive rate = 0.005\n",
        "\n",
        "true positive rate = 0.995\n",
        "\n",
        "true negative rate = 0.817\n",
        "\n",
        "false negative rate = 0.183\n",
        "\n",
        "Overall, the rates indicate that the CNN model performed slightly better than the RNN model. "
      ]
    },
    {
      "metadata": {
        "id": "Rxj2nRuYnGI3",
        "colab_type": "code",
        "colab": {
          "base_uri": "https://localhost:8080/",
          "height": 173
        },
        "outputId": "2ee5782b-7642-46c9-80cd-466cb72eab7e"
      },
      "cell_type": "code",
      "source": [
        "pd.crosstab(y_test_arr, y_test_preds_class_cnn[:,0], colnames=['predicted'], margins=True)"
      ],
      "execution_count": 251,
      "outputs": [
        {
          "output_type": "execute_result",
          "data": {
            "text/html": [
              "<div>\n",
              "<style scoped>\n",
              "    .dataframe tbody tr th:only-of-type {\n",
              "        vertical-align: middle;\n",
              "    }\n",
              "\n",
              "    .dataframe tbody tr th {\n",
              "        vertical-align: top;\n",
              "    }\n",
              "\n",
              "    .dataframe thead th {\n",
              "        text-align: right;\n",
              "    }\n",
              "</style>\n",
              "<table border=\"1\" class=\"dataframe\">\n",
              "  <thead>\n",
              "    <tr style=\"text-align: right;\">\n",
              "      <th>predicted</th>\n",
              "      <th>False</th>\n",
              "      <th>True</th>\n",
              "      <th>All</th>\n",
              "    </tr>\n",
              "    <tr>\n",
              "      <th>row_0</th>\n",
              "      <th></th>\n",
              "      <th></th>\n",
              "      <th></th>\n",
              "    </tr>\n",
              "  </thead>\n",
              "  <tbody>\n",
              "    <tr>\n",
              "      <th>0</th>\n",
              "      <td>13151</td>\n",
              "      <td>63</td>\n",
              "      <td>13214</td>\n",
              "    </tr>\n",
              "    <tr>\n",
              "      <th>1</th>\n",
              "      <td>47</td>\n",
              "      <td>210</td>\n",
              "      <td>257</td>\n",
              "    </tr>\n",
              "    <tr>\n",
              "      <th>All</th>\n",
              "      <td>13198</td>\n",
              "      <td>273</td>\n",
              "      <td>13471</td>\n",
              "    </tr>\n",
              "  </tbody>\n",
              "</table>\n",
              "</div>"
            ],
            "text/plain": [
              "predicted  False  True    All\n",
              "row_0                        \n",
              "0          13151    63  13214\n",
              "1             47   210    257\n",
              "All        13198   273  13471"
            ]
          },
          "metadata": {
            "tags": []
          },
          "execution_count": 251
        }
      ]
    },
    {
      "metadata": {
        "id": "DJlVLOhJl5Yj",
        "colab_type": "text"
      },
      "cell_type": "markdown",
      "source": [
        "**3.3 ROC**"
      ]
    },
    {
      "metadata": {
        "id": "whMs5RPQl7BS",
        "colab_type": "code",
        "colab": {}
      },
      "cell_type": "code",
      "source": [
        "fpr_rnn, tpr_rnn, thresholds_rnn = roc_curve(y_test, y_test_preds_rnn)\n",
        "auc_rnn = auc(fpr_rnn, tpr_rnn)\n",
        "\n",
        "fpr_cnn, tpr_cnn, thresholds_cnn = roc_curve(y_test, y_test_preds_cnn)\n",
        "auc_cnn = auc(fpr_cnn, tpr_cnn)"
      ],
      "execution_count": 0,
      "outputs": []
    },
    {
      "metadata": {
        "id": "zY21GUFO3U_I",
        "colab_type": "code",
        "colab": {
          "base_uri": "https://localhost:8080/",
          "height": 376
        },
        "outputId": "49d8b109-113b-403e-e51a-e91828c5b29f"
      },
      "cell_type": "code",
      "source": [
        "plt.plot(fpr_rnn, tpr_rnn, label='RNN (area = {:.3f})'.format(auc_rnn))\n",
        "plt.plot(fpr_cnn, tpr_cnn, label='CNN (area = {:.3f})'.format(auc_cnn))\n",
        "plt.xlabel('False Positive Rate')\n",
        "plt.ylabel('True Positive Rate')\n",
        "plt.title('ROC Curve')\n",
        "plt.legend()\n",
        "plt.show()"
      ],
      "execution_count": 257,
      "outputs": [
        {
          "output_type": "display_data",
          "data": {
            "image/png": "[encoded data removed]",
            "text/plain": [
              "<matplotlib.figure.Figure at 0x7fb59b1596a0>"
            ]
          },
          "metadata": {
            "tags": []
          }
        }
      ]
    },
    {
      "metadata": {
        "id": "X8hJUcVlEXkY",
        "colab_type": "text"
      },
      "cell_type": "markdown",
      "source": [
        "The ROC curve shows the models performed very well in detecting the benign urls."
      ]
    }
  ]
}